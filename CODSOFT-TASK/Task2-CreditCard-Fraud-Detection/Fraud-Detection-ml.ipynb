{
 "cells": [
  {
   "cell_type": "markdown",
   "id": "38a46b9b-9fb2-4ff2-9084-143e5aed2d9f",
   "metadata": {},
   "source": [
    "## **Import Libraries**"
   ]
  },
  {
   "cell_type": "code",
   "execution_count": 7,
   "id": "942fbd79-8b2e-4c59-8b17-d33551fdafb7",
   "metadata": {},
   "outputs": [],
   "source": [
    "import pandas as pd\n",
    "import numpy as np\n",
    "import seaborn as sns\n",
    "import matplotlib.pyplot as plt\n",
    "from category_encoders import WOEEncoder\n",
    "\n",
    "from sklearn.linear_model import LogisticRegression\n",
    "from sklearn.tree import DecisionTreeClassifier\n",
    "from sklearn.ensemble import RandomForestClassifier\n",
    "from xgboost import XGBClassifier\n",
    "from sklearn.ensemble import RandomForestClassifier\n",
    "\n",
    "from sklearn.utils import resample\n",
    "from sklearn.svm import LinearSVC\n",
    "from sklearn.naive_bayes import GaussianNB\n",
    "from sklearn.preprocessing import StandardScaler\n",
    "\n",
    "\n",
    "\n",
    "from sklearn.metrics import accuracy_score, classification_report, confusion_matrix\n",
    "\n",
    "from sklearn.model_selection import train_test_split\n",
    "\n",
    "sns.set_style('whitegrid') # sets the visual style of Seaborn plots to 'whitegrid', which displays a white background with grid lines.\n",
    "sns.set_palette('pastel')  # sets the color palette to 'pastel', which is one of the predefined color palettes provided by Seaborn. It consists of a set of visually distinct colors suitable for plotting categorical data.\n",
    "\n",
    "import warnings\n",
    "# Ignore all warnings\n",
    "warnings.simplefilter(\"ignore\")"
   ]
  },
  {
   "cell_type": "code",
   "execution_count": 8,
   "id": "3b5d959d-c1b1-41e5-ab42-511538566d8a",
   "metadata": {},
   "outputs": [],
   "source": [
    "train_df = pd.read_csv(r\"D:\\Bala\\CODSOFT-INTERNSHIP\\CreditCard-Fraud-Detection\\fraudTrain.csv\", index_col='Unnamed: 0')\n",
    "test_df = pd.read_csv(r\"D:\\Bala\\CODSOFT-INTERNSHIP\\CreditCard-Fraud-Detection\\fraudTest.csv\", index_col='Unnamed: 0')"
   ]
  },
  {
   "cell_type": "code",
   "execution_count": 9,
   "id": "d3efe183-d7ba-4619-9116-e2d8368ce27d",
   "metadata": {},
   "outputs": [
    {
     "data": {
      "text/html": [
       "<div>\n",
       "<style scoped>\n",
       "    .dataframe tbody tr th:only-of-type {\n",
       "        vertical-align: middle;\n",
       "    }\n",
       "\n",
       "    .dataframe tbody tr th {\n",
       "        vertical-align: top;\n",
       "    }\n",
       "\n",
       "    .dataframe thead th {\n",
       "        text-align: right;\n",
       "    }\n",
       "</style>\n",
       "<table border=\"1\" class=\"dataframe\">\n",
       "  <thead>\n",
       "    <tr style=\"text-align: right;\">\n",
       "      <th></th>\n",
       "      <th>trans_date_trans_time</th>\n",
       "      <th>cc_num</th>\n",
       "      <th>merchant</th>\n",
       "      <th>category</th>\n",
       "      <th>amt</th>\n",
       "      <th>first</th>\n",
       "      <th>last</th>\n",
       "      <th>gender</th>\n",
       "      <th>street</th>\n",
       "      <th>city</th>\n",
       "      <th>...</th>\n",
       "      <th>lat</th>\n",
       "      <th>long</th>\n",
       "      <th>city_pop</th>\n",
       "      <th>job</th>\n",
       "      <th>dob</th>\n",
       "      <th>trans_num</th>\n",
       "      <th>unix_time</th>\n",
       "      <th>merch_lat</th>\n",
       "      <th>merch_long</th>\n",
       "      <th>is_fraud</th>\n",
       "    </tr>\n",
       "  </thead>\n",
       "  <tbody>\n",
       "    <tr>\n",
       "      <th>0</th>\n",
       "      <td>2019-01-01 00:00:18</td>\n",
       "      <td>2703186189652095</td>\n",
       "      <td>fraud_Rippin, Kub and Mann</td>\n",
       "      <td>misc_net</td>\n",
       "      <td>4.97</td>\n",
       "      <td>Jennifer</td>\n",
       "      <td>Banks</td>\n",
       "      <td>F</td>\n",
       "      <td>561 Perry Cove</td>\n",
       "      <td>Moravian Falls</td>\n",
       "      <td>...</td>\n",
       "      <td>36.0788</td>\n",
       "      <td>-81.1781</td>\n",
       "      <td>3495</td>\n",
       "      <td>Psychologist, counselling</td>\n",
       "      <td>1988-03-09</td>\n",
       "      <td>0b242abb623afc578575680df30655b9</td>\n",
       "      <td>1325376018</td>\n",
       "      <td>36.011293</td>\n",
       "      <td>-82.048315</td>\n",
       "      <td>0</td>\n",
       "    </tr>\n",
       "    <tr>\n",
       "      <th>1</th>\n",
       "      <td>2019-01-01 00:00:44</td>\n",
       "      <td>630423337322</td>\n",
       "      <td>fraud_Heller, Gutmann and Zieme</td>\n",
       "      <td>grocery_pos</td>\n",
       "      <td>107.23</td>\n",
       "      <td>Stephanie</td>\n",
       "      <td>Gill</td>\n",
       "      <td>F</td>\n",
       "      <td>43039 Riley Greens Suite 393</td>\n",
       "      <td>Orient</td>\n",
       "      <td>...</td>\n",
       "      <td>48.8878</td>\n",
       "      <td>-118.2105</td>\n",
       "      <td>149</td>\n",
       "      <td>Special educational needs teacher</td>\n",
       "      <td>1978-06-21</td>\n",
       "      <td>1f76529f8574734946361c461b024d99</td>\n",
       "      <td>1325376044</td>\n",
       "      <td>49.159047</td>\n",
       "      <td>-118.186462</td>\n",
       "      <td>0</td>\n",
       "    </tr>\n",
       "    <tr>\n",
       "      <th>2</th>\n",
       "      <td>2019-01-01 00:00:51</td>\n",
       "      <td>38859492057661</td>\n",
       "      <td>fraud_Lind-Buckridge</td>\n",
       "      <td>entertainment</td>\n",
       "      <td>220.11</td>\n",
       "      <td>Edward</td>\n",
       "      <td>Sanchez</td>\n",
       "      <td>M</td>\n",
       "      <td>594 White Dale Suite 530</td>\n",
       "      <td>Malad City</td>\n",
       "      <td>...</td>\n",
       "      <td>42.1808</td>\n",
       "      <td>-112.2620</td>\n",
       "      <td>4154</td>\n",
       "      <td>Nature conservation officer</td>\n",
       "      <td>1962-01-19</td>\n",
       "      <td>a1a22d70485983eac12b5b88dad1cf95</td>\n",
       "      <td>1325376051</td>\n",
       "      <td>43.150704</td>\n",
       "      <td>-112.154481</td>\n",
       "      <td>0</td>\n",
       "    </tr>\n",
       "  </tbody>\n",
       "</table>\n",
       "<p>3 rows × 22 columns</p>\n",
       "</div>"
      ],
      "text/plain": [
       "  trans_date_trans_time            cc_num                         merchant  \\\n",
       "0   2019-01-01 00:00:18  2703186189652095       fraud_Rippin, Kub and Mann   \n",
       "1   2019-01-01 00:00:44      630423337322  fraud_Heller, Gutmann and Zieme   \n",
       "2   2019-01-01 00:00:51    38859492057661             fraud_Lind-Buckridge   \n",
       "\n",
       "        category     amt      first     last gender  \\\n",
       "0       misc_net    4.97   Jennifer    Banks      F   \n",
       "1    grocery_pos  107.23  Stephanie     Gill      F   \n",
       "2  entertainment  220.11     Edward  Sanchez      M   \n",
       "\n",
       "                         street            city  ...      lat      long  \\\n",
       "0                561 Perry Cove  Moravian Falls  ...  36.0788  -81.1781   \n",
       "1  43039 Riley Greens Suite 393          Orient  ...  48.8878 -118.2105   \n",
       "2      594 White Dale Suite 530      Malad City  ...  42.1808 -112.2620   \n",
       "\n",
       "   city_pop                                job         dob  \\\n",
       "0      3495          Psychologist, counselling  1988-03-09   \n",
       "1       149  Special educational needs teacher  1978-06-21   \n",
       "2      4154        Nature conservation officer  1962-01-19   \n",
       "\n",
       "                          trans_num   unix_time  merch_lat  merch_long  \\\n",
       "0  0b242abb623afc578575680df30655b9  1325376018  36.011293  -82.048315   \n",
       "1  1f76529f8574734946361c461b024d99  1325376044  49.159047 -118.186462   \n",
       "2  a1a22d70485983eac12b5b88dad1cf95  1325376051  43.150704 -112.154481   \n",
       "\n",
       "   is_fraud  \n",
       "0         0  \n",
       "1         0  \n",
       "2         0  \n",
       "\n",
       "[3 rows x 22 columns]"
      ]
     },
     "execution_count": 9,
     "metadata": {},
     "output_type": "execute_result"
    }
   ],
   "source": [
    "train_df.head(3)"
   ]
  },
  {
   "cell_type": "code",
   "execution_count": 10,
   "id": "a44ad88f-0dba-4614-9b17-4bc6f65206eb",
   "metadata": {},
   "outputs": [
    {
     "name": "stdout",
     "output_type": "stream",
     "text": [
      "<class 'pandas.core.frame.DataFrame'>\n",
      "Index: 1296675 entries, 0 to 1296674\n",
      "Data columns (total 22 columns):\n",
      " #   Column                 Non-Null Count    Dtype  \n",
      "---  ------                 --------------    -----  \n",
      " 0   trans_date_trans_time  1296675 non-null  object \n",
      " 1   cc_num                 1296675 non-null  int64  \n",
      " 2   merchant               1296675 non-null  object \n",
      " 3   category               1296675 non-null  object \n",
      " 4   amt                    1296675 non-null  float64\n",
      " 5   first                  1296675 non-null  object \n",
      " 6   last                   1296675 non-null  object \n",
      " 7   gender                 1296675 non-null  object \n",
      " 8   street                 1296675 non-null  object \n",
      " 9   city                   1296675 non-null  object \n",
      " 10  state                  1296675 non-null  object \n",
      " 11  zip                    1296675 non-null  int64  \n",
      " 12  lat                    1296675 non-null  float64\n",
      " 13  long                   1296675 non-null  float64\n",
      " 14  city_pop               1296675 non-null  int64  \n",
      " 15  job                    1296675 non-null  object \n",
      " 16  dob                    1296675 non-null  object \n",
      " 17  trans_num              1296675 non-null  object \n",
      " 18  unix_time              1296675 non-null  int64  \n",
      " 19  merch_lat              1296675 non-null  float64\n",
      " 20  merch_long             1296675 non-null  float64\n",
      " 21  is_fraud               1296675 non-null  int64  \n",
      "dtypes: float64(5), int64(5), object(12)\n",
      "memory usage: 227.5+ MB\n"
     ]
    }
   ],
   "source": [
    "train_df.info()"
   ]
  },
  {
   "cell_type": "code",
   "execution_count": 11,
   "id": "091fd572-7948-4683-acb1-cffeda0a83ce",
   "metadata": {},
   "outputs": [
    {
     "data": {
      "text/plain": [
       "(1296675, 22)"
      ]
     },
     "execution_count": 11,
     "metadata": {},
     "output_type": "execute_result"
    }
   ],
   "source": [
    "train_df.shape"
   ]
  },
  {
   "cell_type": "code",
   "execution_count": 12,
   "id": "c278258a-0937-4d66-9090-137968db0b65",
   "metadata": {},
   "outputs": [
    {
     "name": "stdout",
     "output_type": "stream",
     "text": [
      "Yes:  7506\n",
      "No:  1289169\n"
     ]
    }
   ],
   "source": [
    "is_fraud = train_df[\"is_fraud\"].value_counts()\n",
    "print(\"Yes: \",is_fraud[1]) \n",
    "print(\"No: \",is_fraud[0])"
   ]
  },
  {
   "cell_type": "code",
   "execution_count": 13,
   "id": "2d1e5dea-526d-4062-9299-0aaac8a77baf",
   "metadata": {},
   "outputs": [
    {
     "name": "stdout",
     "output_type": "stream",
     "text": [
      "0\n",
      "0\n"
     ]
    }
   ],
   "source": [
    "print(train_df.isna().sum().sum())\n",
    "print(train_df.duplicated().sum())"
   ]
  },
  {
   "cell_type": "code",
   "execution_count": 41,
   "id": "f7a817f6-4b6f-4e12-89b1-f942c1b36f7d",
   "metadata": {},
   "outputs": [
    {
     "data": {
      "image/png": "[encoded data removed]",
      "text/plain": [
       "<Figure size 1500x800 with 2 Axes>"
      ]
     },
     "metadata": {},
     "output_type": "display_data"
    }
   ],
   "source": [
    "fig,axb = plt.subplots(ncols=2,nrows=1,figsize=(15, 8))\n",
    "\n",
    "#Gender Distribution\n",
    "explode = [0.1, 0.1]\n",
    "train_df.groupby('gender')['is_fraud'].count().plot.pie(explode=explode, autopct=\"%1.1f%%\",ax=axb[0]);\n",
    "\n",
    "ax = sns.countplot(x=\"gender\", hue=\"is_fraud\", data=train_df,ax=axb[1])\n",
    "\n",
    "# Add values on top of each bar\n",
    "for p in ax.patches:\n",
    "    ax.annotate(f'{p.get_height()}', (p.get_x() + p.get_width() / 2., p.get_height()),\n",
    "                ha='center', va='center', xytext=(0, 10), textcoords='offset points')\n",
    "\n",
    "# Set labels and title\n",
    "plt.title(\"Distribution of Gender with Fraud Status\")\n",
    "plt.xlabel(\"Gender\")\n",
    "plt.ylabel(\"Count\")\n",
    "\n",
    "# Show the plot\n",
    "plt.show()"
   ]
  },
  {
   "cell_type": "markdown",
   "id": "5f0eefa2-73db-4c93-bf91-a58b86d614e2",
   "metadata": {},
   "source": [
    "#### **Females are doing more transactions but males are more likely to make fraud transaction**"
   ]
  },
  {
   "cell_type": "code",
   "execution_count": 16,
   "id": "92ada19a-c4e7-4d6f-a94d-a7112ed67012",
   "metadata": {},
   "outputs": [
    {
     "data": {
      "image/png": "[encoded data removed]",
      "text/plain": [
       "<Figure size 1000x600 with 1 Axes>"
      ]
     },
     "metadata": {},
     "output_type": "display_data"
    }
   ],
   "source": [
    "is_fraud = train_df[\"is_fraud\"].value_counts()\n",
    "plt.figure(figsize=(10, 6))\n",
    "plt.subplot(1, 2, 1)  # Subplot for the pie chart\n",
    "plt.pie(is_fraud, labels=[\"No\", \"YES\"], autopct=\"%0.0f%%\")\n",
    "plt.title(\"is_fraud Counts\")\n",
    "plt.tight_layout()  # Adjust layout to prevent overlapping\n",
    "plt.show()"
   ]
  },
  {
   "cell_type": "markdown",
   "id": "578b2878-e554-4733-a152-a5b179d8f960",
   "metadata": {},
   "source": [
    "##### *99% is not fraud and only 1% is fraud leads to imbalanced data*"
   ]
  },
  {
   "cell_type": "code",
   "execution_count": 18,
   "id": "05b05c53-3fad-434f-9158-a3635d96ed0f",
   "metadata": {},
   "outputs": [],
   "source": [
    "#Change date type from obj to datetime\n",
    "train_df['trans_date_trans_time'] = pd.to_datetime(train_df['trans_date_trans_time'],format='mixed')\n",
    "test_df['trans_date_trans_time'] = pd.to_datetime(test_df['trans_date_trans_time'],format='mixed')"
   ]
  },
  {
   "cell_type": "code",
   "execution_count": 19,
   "id": "8f4d66c3-7ee2-4c98-aead-b0bedcf44533",
   "metadata": {},
   "outputs": [
    {
     "data": {
      "text/html": [
       "<div>\n",
       "<style scoped>\n",
       "    .dataframe tbody tr th:only-of-type {\n",
       "        vertical-align: middle;\n",
       "    }\n",
       "\n",
       "    .dataframe tbody tr th {\n",
       "        vertical-align: top;\n",
       "    }\n",
       "\n",
       "    .dataframe thead th {\n",
       "        text-align: right;\n",
       "    }\n",
       "</style>\n",
       "<table border=\"1\" class=\"dataframe\">\n",
       "  <thead>\n",
       "    <tr style=\"text-align: right;\">\n",
       "      <th></th>\n",
       "      <th>trans_date_trans_time</th>\n",
       "      <th>cc_num</th>\n",
       "      <th>merchant</th>\n",
       "      <th>category</th>\n",
       "      <th>amt</th>\n",
       "      <th>first</th>\n",
       "      <th>last</th>\n",
       "      <th>gender</th>\n",
       "      <th>street</th>\n",
       "      <th>city</th>\n",
       "      <th>...</th>\n",
       "      <th>city_pop</th>\n",
       "      <th>job</th>\n",
       "      <th>dob</th>\n",
       "      <th>trans_num</th>\n",
       "      <th>unix_time</th>\n",
       "      <th>merch_lat</th>\n",
       "      <th>merch_long</th>\n",
       "      <th>is_fraud</th>\n",
       "      <th>hour</th>\n",
       "      <th>month</th>\n",
       "    </tr>\n",
       "  </thead>\n",
       "  <tbody>\n",
       "    <tr>\n",
       "      <th>0</th>\n",
       "      <td>2019-01-01 00:00:18</td>\n",
       "      <td>2703186189652095</td>\n",
       "      <td>fraud_Rippin, Kub and Mann</td>\n",
       "      <td>misc_net</td>\n",
       "      <td>4.97</td>\n",
       "      <td>Jennifer</td>\n",
       "      <td>Banks</td>\n",
       "      <td>F</td>\n",
       "      <td>561 Perry Cove</td>\n",
       "      <td>Moravian Falls</td>\n",
       "      <td>...</td>\n",
       "      <td>3495</td>\n",
       "      <td>Psychologist, counselling</td>\n",
       "      <td>1988-03-09</td>\n",
       "      <td>0b242abb623afc578575680df30655b9</td>\n",
       "      <td>1325376018</td>\n",
       "      <td>36.011293</td>\n",
       "      <td>-82.048315</td>\n",
       "      <td>0</td>\n",
       "      <td>0</td>\n",
       "      <td>1</td>\n",
       "    </tr>\n",
       "    <tr>\n",
       "      <th>1</th>\n",
       "      <td>2019-01-01 00:00:44</td>\n",
       "      <td>630423337322</td>\n",
       "      <td>fraud_Heller, Gutmann and Zieme</td>\n",
       "      <td>grocery_pos</td>\n",
       "      <td>107.23</td>\n",
       "      <td>Stephanie</td>\n",
       "      <td>Gill</td>\n",
       "      <td>F</td>\n",
       "      <td>43039 Riley Greens Suite 393</td>\n",
       "      <td>Orient</td>\n",
       "      <td>...</td>\n",
       "      <td>149</td>\n",
       "      <td>Special educational needs teacher</td>\n",
       "      <td>1978-06-21</td>\n",
       "      <td>1f76529f8574734946361c461b024d99</td>\n",
       "      <td>1325376044</td>\n",
       "      <td>49.159047</td>\n",
       "      <td>-118.186462</td>\n",
       "      <td>0</td>\n",
       "      <td>0</td>\n",
       "      <td>1</td>\n",
       "    </tr>\n",
       "    <tr>\n",
       "      <th>2</th>\n",
       "      <td>2019-01-01 00:00:51</td>\n",
       "      <td>38859492057661</td>\n",
       "      <td>fraud_Lind-Buckridge</td>\n",
       "      <td>entertainment</td>\n",
       "      <td>220.11</td>\n",
       "      <td>Edward</td>\n",
       "      <td>Sanchez</td>\n",
       "      <td>M</td>\n",
       "      <td>594 White Dale Suite 530</td>\n",
       "      <td>Malad City</td>\n",
       "      <td>...</td>\n",
       "      <td>4154</td>\n",
       "      <td>Nature conservation officer</td>\n",
       "      <td>1962-01-19</td>\n",
       "      <td>a1a22d70485983eac12b5b88dad1cf95</td>\n",
       "      <td>1325376051</td>\n",
       "      <td>43.150704</td>\n",
       "      <td>-112.154481</td>\n",
       "      <td>0</td>\n",
       "      <td>0</td>\n",
       "      <td>1</td>\n",
       "    </tr>\n",
       "    <tr>\n",
       "      <th>3</th>\n",
       "      <td>2019-01-01 00:01:16</td>\n",
       "      <td>3534093764340240</td>\n",
       "      <td>fraud_Kutch, Hermiston and Farrell</td>\n",
       "      <td>gas_transport</td>\n",
       "      <td>45.00</td>\n",
       "      <td>Jeremy</td>\n",
       "      <td>White</td>\n",
       "      <td>M</td>\n",
       "      <td>9443 Cynthia Court Apt. 038</td>\n",
       "      <td>Boulder</td>\n",
       "      <td>...</td>\n",
       "      <td>1939</td>\n",
       "      <td>Patent attorney</td>\n",
       "      <td>1967-01-12</td>\n",
       "      <td>6b849c168bdad6f867558c3793159a81</td>\n",
       "      <td>1325376076</td>\n",
       "      <td>47.034331</td>\n",
       "      <td>-112.561071</td>\n",
       "      <td>0</td>\n",
       "      <td>0</td>\n",
       "      <td>1</td>\n",
       "    </tr>\n",
       "    <tr>\n",
       "      <th>4</th>\n",
       "      <td>2019-01-01 00:03:06</td>\n",
       "      <td>375534208663984</td>\n",
       "      <td>fraud_Keeling-Crist</td>\n",
       "      <td>misc_pos</td>\n",
       "      <td>41.96</td>\n",
       "      <td>Tyler</td>\n",
       "      <td>Garcia</td>\n",
       "      <td>M</td>\n",
       "      <td>408 Bradley Rest</td>\n",
       "      <td>Doe Hill</td>\n",
       "      <td>...</td>\n",
       "      <td>99</td>\n",
       "      <td>Dance movement psychotherapist</td>\n",
       "      <td>1986-03-28</td>\n",
       "      <td>a41d7549acf90789359a9aa5346dcb46</td>\n",
       "      <td>1325376186</td>\n",
       "      <td>38.674999</td>\n",
       "      <td>-78.632459</td>\n",
       "      <td>0</td>\n",
       "      <td>0</td>\n",
       "      <td>1</td>\n",
       "    </tr>\n",
       "  </tbody>\n",
       "</table>\n",
       "<p>5 rows × 24 columns</p>\n",
       "</div>"
      ],
      "text/plain": [
       "  trans_date_trans_time            cc_num                            merchant  \\\n",
       "0   2019-01-01 00:00:18  2703186189652095          fraud_Rippin, Kub and Mann   \n",
       "1   2019-01-01 00:00:44      630423337322     fraud_Heller, Gutmann and Zieme   \n",
       "2   2019-01-01 00:00:51    38859492057661                fraud_Lind-Buckridge   \n",
       "3   2019-01-01 00:01:16  3534093764340240  fraud_Kutch, Hermiston and Farrell   \n",
       "4   2019-01-01 00:03:06   375534208663984                 fraud_Keeling-Crist   \n",
       "\n",
       "        category     amt      first     last gender  \\\n",
       "0       misc_net    4.97   Jennifer    Banks      F   \n",
       "1    grocery_pos  107.23  Stephanie     Gill      F   \n",
       "2  entertainment  220.11     Edward  Sanchez      M   \n",
       "3  gas_transport   45.00     Jeremy    White      M   \n",
       "4       misc_pos   41.96      Tyler   Garcia      M   \n",
       "\n",
       "                         street            city  ... city_pop  \\\n",
       "0                561 Perry Cove  Moravian Falls  ...     3495   \n",
       "1  43039 Riley Greens Suite 393          Orient  ...      149   \n",
       "2      594 White Dale Suite 530      Malad City  ...     4154   \n",
       "3   9443 Cynthia Court Apt. 038         Boulder  ...     1939   \n",
       "4              408 Bradley Rest        Doe Hill  ...       99   \n",
       "\n",
       "                                 job         dob  \\\n",
       "0          Psychologist, counselling  1988-03-09   \n",
       "1  Special educational needs teacher  1978-06-21   \n",
       "2        Nature conservation officer  1962-01-19   \n",
       "3                    Patent attorney  1967-01-12   \n",
       "4     Dance movement psychotherapist  1986-03-28   \n",
       "\n",
       "                          trans_num   unix_time  merch_lat  merch_long  \\\n",
       "0  0b242abb623afc578575680df30655b9  1325376018  36.011293  -82.048315   \n",
       "1  1f76529f8574734946361c461b024d99  1325376044  49.159047 -118.186462   \n",
       "2  a1a22d70485983eac12b5b88dad1cf95  1325376051  43.150704 -112.154481   \n",
       "3  6b849c168bdad6f867558c3793159a81  1325376076  47.034331 -112.561071   \n",
       "4  a41d7549acf90789359a9aa5346dcb46  1325376186  38.674999  -78.632459   \n",
       "\n",
       "  is_fraud  hour  month  \n",
       "0        0     0      1  \n",
       "1        0     0      1  \n",
       "2        0     0      1  \n",
       "3        0     0      1  \n",
       "4        0     0      1  \n",
       "\n",
       "[5 rows x 24 columns]"
      ]
     },
     "execution_count": 19,
     "metadata": {},
     "output_type": "execute_result"
    }
   ],
   "source": [
    "train_df['hour'] = train_df['trans_date_trans_time'].dt.hour\n",
    "test_df['hour'] = test_df['trans_date_trans_time'].dt.hour\n",
    "\n",
    "train_df['month'] = train_df['trans_date_trans_time'].dt.month\n",
    "test_df['month'] = test_df['trans_date_trans_time'].dt.month\n",
    "\n",
    "train_df.head()"
   ]
  },
  {
   "cell_type": "code",
   "execution_count": 20,
   "id": "7016a3a2-5cbb-4c29-b609-c820133f2a96",
   "metadata": {},
   "outputs": [
    {
     "data": {
      "image/png": "[encoded data removed]",
      "text/plain": [
       "<Figure size 1500x500 with 2 Axes>"
      ]
     },
     "metadata": {},
     "output_type": "display_data"
    }
   ],
   "source": [
    "f, (ax1, ax2) = plt.subplots(1, 2, figsize=(15,5), sharey=True)\n",
    "\n",
    "ax1 = sns.histplot(x='hour', data=train_df[train_df[\"is_fraud\"] == 0],\n",
    "                   stat=\"density\", bins=24, ax=ax1, color=\"orange\")\n",
    "\n",
    "ax2 = sns.histplot(x='hour', data=train_df[train_df[\"is_fraud\"] == 1],\n",
    "                   stat=\"density\", bins=24, ax=ax2, color=\"green\")\n",
    "\n",
    "ax1.set_title(\"Not Fraud\")\n",
    "ax2.set_title(\"Fraud\")\n",
    "\n",
    "ax1.set_xticks(np.arange(24)) # ticks of the day 0 -> 23\n",
    "ax2.set_xticks(np.arange(24));"
   ]
  },
  {
   "cell_type": "markdown",
   "id": "a3fa2952-5bb9-4d38-8cb5-6ab57f625e88",
   "metadata": {},
   "source": [
    "##### *It is clear that fraud transactions mainly occur at midnight.*\n",
    "##### *last 2 hours of the day*"
   ]
  },
  {
   "cell_type": "code",
   "execution_count": 24,
   "id": "fa6bae3a-481c-45da-be22-8ca24e997149",
   "metadata": {},
   "outputs": [
    {
     "name": "stdout",
     "output_type": "stream",
     "text": [
      "Total count of unique transaction numbers: 1296675\n"
     ]
    }
   ],
   "source": [
    "unique_transaction_count = len(train_df['trans_num'].unique())\n",
    "print(\"Total count of unique transaction numbers:\", unique_transaction_count)"
   ]
  },
  {
   "cell_type": "code",
   "execution_count": 25,
   "id": "80b35907-1ef7-4c38-ba42-3cff482cd27a",
   "metadata": {},
   "outputs": [
    {
     "data": {
      "text/html": [
       "<div>\n",
       "<style scoped>\n",
       "    .dataframe tbody tr th:only-of-type {\n",
       "        vertical-align: middle;\n",
       "    }\n",
       "\n",
       "    .dataframe tbody tr th {\n",
       "        vertical-align: top;\n",
       "    }\n",
       "\n",
       "    .dataframe thead th {\n",
       "        text-align: right;\n",
       "    }\n",
       "</style>\n",
       "<table border=\"1\" class=\"dataframe\">\n",
       "  <thead>\n",
       "    <tr style=\"text-align: right;\">\n",
       "      <th></th>\n",
       "      <th>merchant</th>\n",
       "      <th>category</th>\n",
       "      <th>amt</th>\n",
       "      <th>last</th>\n",
       "      <th>gender</th>\n",
       "      <th>lat</th>\n",
       "      <th>long</th>\n",
       "      <th>city_pop</th>\n",
       "      <th>job</th>\n",
       "      <th>merch_lat</th>\n",
       "      <th>merch_long</th>\n",
       "      <th>is_fraud</th>\n",
       "      <th>hour</th>\n",
       "      <th>month</th>\n",
       "    </tr>\n",
       "  </thead>\n",
       "  <tbody>\n",
       "    <tr>\n",
       "      <th>0</th>\n",
       "      <td>fraud_Rippin, Kub and Mann</td>\n",
       "      <td>misc_net</td>\n",
       "      <td>4.97</td>\n",
       "      <td>Banks</td>\n",
       "      <td>F</td>\n",
       "      <td>36.0788</td>\n",
       "      <td>-81.1781</td>\n",
       "      <td>3495</td>\n",
       "      <td>Psychologist, counselling</td>\n",
       "      <td>36.011293</td>\n",
       "      <td>-82.048315</td>\n",
       "      <td>0</td>\n",
       "      <td>0</td>\n",
       "      <td>1</td>\n",
       "    </tr>\n",
       "    <tr>\n",
       "      <th>1</th>\n",
       "      <td>fraud_Heller, Gutmann and Zieme</td>\n",
       "      <td>grocery_pos</td>\n",
       "      <td>107.23</td>\n",
       "      <td>Gill</td>\n",
       "      <td>F</td>\n",
       "      <td>48.8878</td>\n",
       "      <td>-118.2105</td>\n",
       "      <td>149</td>\n",
       "      <td>Special educational needs teacher</td>\n",
       "      <td>49.159047</td>\n",
       "      <td>-118.186462</td>\n",
       "      <td>0</td>\n",
       "      <td>0</td>\n",
       "      <td>1</td>\n",
       "    </tr>\n",
       "  </tbody>\n",
       "</table>\n",
       "</div>"
      ],
      "text/plain": [
       "                          merchant     category     amt   last gender  \\\n",
       "0       fraud_Rippin, Kub and Mann     misc_net    4.97  Banks      F   \n",
       "1  fraud_Heller, Gutmann and Zieme  grocery_pos  107.23   Gill      F   \n",
       "\n",
       "       lat      long  city_pop                                job  merch_lat  \\\n",
       "0  36.0788  -81.1781      3495          Psychologist, counselling  36.011293   \n",
       "1  48.8878 -118.2105       149  Special educational needs teacher  49.159047   \n",
       "\n",
       "   merch_long  is_fraud  hour  month  \n",
       "0  -82.048315         0     0      1  \n",
       "1 -118.186462         0     0      1  "
      ]
     },
     "execution_count": 25,
     "metadata": {},
     "output_type": "execute_result"
    }
   ],
   "source": [
    "# remove non-useful columns\n",
    "columns_to_drop = ['first', 'unix_time', 'dob', 'cc_num', 'zip', 'city','street', 'state', 'trans_num', 'trans_date_trans_time']\n",
    "train_df = train_df.drop(columns_to_drop, axis=1)\n",
    "test_df = test_df.drop(columns_to_drop, axis=1)\n",
    "train_df.head(2)"
   ]
  },
  {
   "cell_type": "code",
   "execution_count": 26,
   "id": "b6e6f4ce-bd63-447d-9511-8063a7ae0c54",
   "metadata": {},
   "outputs": [],
   "source": [
    "#clean merchant column\n",
    "train_df['merchant'] = train_df['merchant'].apply(lambda x : x.replace('fraud_',''))"
   ]
  },
  {
   "cell_type": "code",
   "execution_count": 28,
   "id": "14f22f53-416a-4802-8443-5fb2db413192",
   "metadata": {},
   "outputs": [
    {
     "name": "stdout",
     "output_type": "stream",
     "text": [
      "<class 'pandas.core.frame.DataFrame'>\n",
      "Index: 1296675 entries, 0 to 1296674\n",
      "Data columns (total 14 columns):\n",
      " #   Column      Non-Null Count    Dtype  \n",
      "---  ------      --------------    -----  \n",
      " 0   merchant    1296675 non-null  object \n",
      " 1   category    1296675 non-null  object \n",
      " 2   amt         1296675 non-null  float64\n",
      " 3   last        1296675 non-null  object \n",
      " 4   gender      1296675 non-null  object \n",
      " 5   lat         1296675 non-null  float64\n",
      " 6   long        1296675 non-null  float64\n",
      " 7   city_pop    1296675 non-null  int64  \n",
      " 8   job         1296675 non-null  object \n",
      " 9   merch_lat   1296675 non-null  float64\n",
      " 10  merch_long  1296675 non-null  float64\n",
      " 11  is_fraud    1296675 non-null  int64  \n",
      " 12  hour        1296675 non-null  int32  \n",
      " 13  month       1296675 non-null  int32  \n",
      "dtypes: float64(5), int32(2), int64(2), object(5)\n",
      "memory usage: 138.5+ MB\n"
     ]
    }
   ],
   "source": [
    "train_df.info()"
   ]
  },
  {
   "cell_type": "code",
   "execution_count": 60,
   "id": "ff8dcaef-c01f-4920-b4c8-70a1c0fc715f",
   "metadata": {},
   "outputs": [
    {
     "data": {
      "text/html": [
       "<div>\n",
       "<style scoped>\n",
       "    .dataframe tbody tr th:only-of-type {\n",
       "        vertical-align: middle;\n",
       "    }\n",
       "\n",
       "    .dataframe tbody tr th {\n",
       "        vertical-align: top;\n",
       "    }\n",
       "\n",
       "    .dataframe thead th {\n",
       "        text-align: right;\n",
       "    }\n",
       "</style>\n",
       "<table border=\"1\" class=\"dataframe\">\n",
       "  <thead>\n",
       "    <tr style=\"text-align: right;\">\n",
       "      <th></th>\n",
       "      <th>merchant</th>\n",
       "      <th>category</th>\n",
       "      <th>amt</th>\n",
       "      <th>last</th>\n",
       "      <th>gender</th>\n",
       "      <th>lat</th>\n",
       "      <th>long</th>\n",
       "      <th>city_pop</th>\n",
       "      <th>job</th>\n",
       "      <th>merch_lat</th>\n",
       "      <th>merch_long</th>\n",
       "      <th>is_fraud</th>\n",
       "      <th>hour</th>\n",
       "      <th>month</th>\n",
       "    </tr>\n",
       "  </thead>\n",
       "  <tbody>\n",
       "    <tr>\n",
       "      <th>0</th>\n",
       "      <td>Rippin, Kub and Mann</td>\n",
       "      <td>misc_net</td>\n",
       "      <td>4.97</td>\n",
       "      <td>Banks</td>\n",
       "      <td>F</td>\n",
       "      <td>36.0788</td>\n",
       "      <td>-81.1781</td>\n",
       "      <td>3495</td>\n",
       "      <td>Psychologist, counselling</td>\n",
       "      <td>36.011293</td>\n",
       "      <td>-82.048315</td>\n",
       "      <td>0</td>\n",
       "      <td>0</td>\n",
       "      <td>1</td>\n",
       "    </tr>\n",
       "    <tr>\n",
       "      <th>1</th>\n",
       "      <td>Heller, Gutmann and Zieme</td>\n",
       "      <td>grocery_pos</td>\n",
       "      <td>107.23</td>\n",
       "      <td>Gill</td>\n",
       "      <td>F</td>\n",
       "      <td>48.8878</td>\n",
       "      <td>-118.2105</td>\n",
       "      <td>149</td>\n",
       "      <td>Special educational needs teacher</td>\n",
       "      <td>49.159047</td>\n",
       "      <td>-118.186462</td>\n",
       "      <td>0</td>\n",
       "      <td>0</td>\n",
       "      <td>1</td>\n",
       "    </tr>\n",
       "  </tbody>\n",
       "</table>\n",
       "</div>"
      ],
      "text/plain": [
       "                    merchant     category     amt   last gender      lat  \\\n",
       "0       Rippin, Kub and Mann     misc_net    4.97  Banks      F  36.0788   \n",
       "1  Heller, Gutmann and Zieme  grocery_pos  107.23   Gill      F  48.8878   \n",
       "\n",
       "       long  city_pop                                job  merch_lat  \\\n",
       "0  -81.1781      3495          Psychologist, counselling  36.011293   \n",
       "1 -118.2105       149  Special educational needs teacher  49.159047   \n",
       "\n",
       "   merch_long  is_fraud  hour  month  \n",
       "0  -82.048315         0     0      1  \n",
       "1 -118.186462         0     0      1  "
      ]
     },
     "execution_count": 60,
     "metadata": {},
     "output_type": "execute_result"
    }
   ],
   "source": [
    "train_df.head(2)"
   ]
  },
  {
   "cell_type": "code",
   "execution_count": 62,
   "id": "820d43f5-50c6-41ad-a942-d2474f168e9d",
   "metadata": {},
   "outputs": [
    {
     "data": {
      "text/html": [
       "<div>\n",
       "<style scoped>\n",
       "    .dataframe tbody tr th:only-of-type {\n",
       "        vertical-align: middle;\n",
       "    }\n",
       "\n",
       "    .dataframe tbody tr th {\n",
       "        vertical-align: top;\n",
       "    }\n",
       "\n",
       "    .dataframe thead th {\n",
       "        text-align: right;\n",
       "    }\n",
       "</style>\n",
       "<table border=\"1\" class=\"dataframe\">\n",
       "  <thead>\n",
       "    <tr style=\"text-align: right;\">\n",
       "      <th></th>\n",
       "      <th>merchant</th>\n",
       "      <th>category</th>\n",
       "      <th>last</th>\n",
       "      <th>gender</th>\n",
       "      <th>job</th>\n",
       "    </tr>\n",
       "  </thead>\n",
       "  <tbody>\n",
       "    <tr>\n",
       "      <th>count</th>\n",
       "      <td>1296675</td>\n",
       "      <td>1296675</td>\n",
       "      <td>1296675</td>\n",
       "      <td>1296675</td>\n",
       "      <td>1296675</td>\n",
       "    </tr>\n",
       "    <tr>\n",
       "      <th>unique</th>\n",
       "      <td>693</td>\n",
       "      <td>14</td>\n",
       "      <td>481</td>\n",
       "      <td>2</td>\n",
       "      <td>494</td>\n",
       "    </tr>\n",
       "    <tr>\n",
       "      <th>top</th>\n",
       "      <td>Kilback LLC</td>\n",
       "      <td>gas_transport</td>\n",
       "      <td>Smith</td>\n",
       "      <td>F</td>\n",
       "      <td>Film/video editor</td>\n",
       "    </tr>\n",
       "    <tr>\n",
       "      <th>freq</th>\n",
       "      <td>4403</td>\n",
       "      <td>131659</td>\n",
       "      <td>28794</td>\n",
       "      <td>709863</td>\n",
       "      <td>9779</td>\n",
       "    </tr>\n",
       "  </tbody>\n",
       "</table>\n",
       "</div>"
      ],
      "text/plain": [
       "           merchant       category     last   gender                job\n",
       "count       1296675        1296675  1296675  1296675            1296675\n",
       "unique          693             14      481        2                494\n",
       "top     Kilback LLC  gas_transport    Smith        F  Film/video editor\n",
       "freq           4403         131659    28794   709863               9779"
      ]
     },
     "execution_count": 62,
     "metadata": {},
     "output_type": "execute_result"
    }
   ],
   "source": [
    "train_df.describe(include='object')"
   ]
  },
  {
   "cell_type": "markdown",
   "id": "74a82234-a11b-4db8-9926-14912fcfb11c",
   "metadata": {},
   "source": [
    "## Data Encoding\n",
    "##### **WOEEncoder**\n",
    "\n",
    "<p>is a type of categorical encoding technique used in machine learning, particularly in the context of handling categorical variables in predictive modeling tasks, such as classification. WOE stands for<b> \"Weight of Evidence.\"</b> It's a popular encoding technique in credit scoring and fraud detection.\n",
    "\n",
    "In summary, while label encoding simply assigns numerical labels to categories, WOE encoding calculates numerical values based on the relationship between each category and the target variable, providing more meaningful representations for categorical variables in certain modeling contexts, especially those where the predictive power of categorical variables is crucial.<p>"
   ]
  },
  {
   "cell_type": "code",
   "execution_count": 48,
   "id": "a9452d82-cca8-48d7-9248-1738716926a4",
   "metadata": {},
   "outputs": [
    {
     "name": "stdout",
     "output_type": "stream",
     "text": [
      "Warning: No categorical columns found. Calling 'transform' will only return input data.\n",
      "Warning: No categorical columns found. Calling 'transform' will only return input data.\n",
      "Warning: No categorical columns found. Calling 'transform' will only return input data.\n",
      "Warning: No categorical columns found. Calling 'transform' will only return input data.\n",
      "Warning: No categorical columns found. Calling 'transform' will only return input data.\n"
     ]
    }
   ],
   "source": [
    "# applying label encoding\n",
    "train_df['gender'] = train_df['gender'].map({'F': 0, 'M': 1})\n",
    "\n",
    "# applying WOE encoding\n",
    "for col in ['job','merchant', 'category', 'lat', 'last']:\n",
    "    train_df[col] = WOEEncoder().fit_transform(train_df[col],train_df['is_fraud'])"
   ]
  },
  {
   "cell_type": "code",
   "execution_count": 67,
   "id": "618bc8a3-c7f6-4296-a4de-3af692ccc3dd",
   "metadata": {},
   "outputs": [
    {
     "data": {
      "text/html": [
       "<div>\n",
       "<style scoped>\n",
       "    .dataframe tbody tr th:only-of-type {\n",
       "        vertical-align: middle;\n",
       "    }\n",
       "\n",
       "    .dataframe tbody tr th {\n",
       "        vertical-align: top;\n",
       "    }\n",
       "\n",
       "    .dataframe thead th {\n",
       "        text-align: right;\n",
       "    }\n",
       "</style>\n",
       "<table border=\"1\" class=\"dataframe\">\n",
       "  <thead>\n",
       "    <tr style=\"text-align: right;\">\n",
       "      <th></th>\n",
       "      <th>merchant</th>\n",
       "      <th>category</th>\n",
       "      <th>amt</th>\n",
       "      <th>last</th>\n",
       "      <th>gender</th>\n",
       "      <th>lat</th>\n",
       "      <th>long</th>\n",
       "      <th>city_pop</th>\n",
       "      <th>job</th>\n",
       "      <th>merch_lat</th>\n",
       "      <th>merch_long</th>\n",
       "      <th>is_fraud</th>\n",
       "      <th>hour</th>\n",
       "      <th>month</th>\n",
       "    </tr>\n",
       "  </thead>\n",
       "  <tbody>\n",
       "    <tr>\n",
       "      <th>0</th>\n",
       "      <td>0.959326</td>\n",
       "      <td>0.924914</td>\n",
       "      <td>4.97</td>\n",
       "      <td>-2.469513</td>\n",
       "      <td>0</td>\n",
       "      <td>36.0788</td>\n",
       "      <td>-81.1781</td>\n",
       "      <td>3495</td>\n",
       "      <td>-1.080186</td>\n",
       "      <td>36.011293</td>\n",
       "      <td>-82.048315</td>\n",
       "      <td>0</td>\n",
       "      <td>0</td>\n",
       "      <td>1</td>\n",
       "    </tr>\n",
       "    <tr>\n",
       "      <th>1</th>\n",
       "      <td>0.663187</td>\n",
       "      <td>0.898799</td>\n",
       "      <td>107.23</td>\n",
       "      <td>-0.673638</td>\n",
       "      <td>0</td>\n",
       "      <td>48.8878</td>\n",
       "      <td>-118.2105</td>\n",
       "      <td>149</td>\n",
       "      <td>-0.904144</td>\n",
       "      <td>49.159047</td>\n",
       "      <td>-118.186462</td>\n",
       "      <td>0</td>\n",
       "      <td>0</td>\n",
       "      <td>1</td>\n",
       "    </tr>\n",
       "    <tr>\n",
       "      <th>2</th>\n",
       "      <td>-0.790166</td>\n",
       "      <td>-0.847622</td>\n",
       "      <td>220.11</td>\n",
       "      <td>0.433257</td>\n",
       "      <td>1</td>\n",
       "      <td>42.1808</td>\n",
       "      <td>-112.2620</td>\n",
       "      <td>4154</td>\n",
       "      <td>1.120434</td>\n",
       "      <td>43.150704</td>\n",
       "      <td>-112.154481</td>\n",
       "      <td>0</td>\n",
       "      <td>0</td>\n",
       "      <td>1</td>\n",
       "    </tr>\n",
       "  </tbody>\n",
       "</table>\n",
       "</div>"
      ],
      "text/plain": [
       "   merchant  category     amt      last  gender      lat      long  city_pop  \\\n",
       "0  0.959326  0.924914    4.97 -2.469513       0  36.0788  -81.1781      3495   \n",
       "1  0.663187  0.898799  107.23 -0.673638       0  48.8878 -118.2105       149   \n",
       "2 -0.790166 -0.847622  220.11  0.433257       1  42.1808 -112.2620      4154   \n",
       "\n",
       "        job  merch_lat  merch_long  is_fraud  hour  month  \n",
       "0 -1.080186  36.011293  -82.048315         0     0      1  \n",
       "1 -0.904144  49.159047 -118.186462         0     0      1  \n",
       "2  1.120434  43.150704 -112.154481         0     0      1  "
      ]
     },
     "execution_count": 67,
     "metadata": {},
     "output_type": "execute_result"
    }
   ],
   "source": [
    "train_df.head(3)"
   ]
  },
  {
   "cell_type": "markdown",
   "id": "adf270ca-fece-44e3-a10e-8e8395ca61af",
   "metadata": {},
   "source": [
    "#### **down_sampling technique :**\n",
    "\n",
    "<p>Downsampling involves reducing the number of instances in the majority class to balance it with the number of instances in the minority class.\n",
    "\n",
    "This helps prevent the machine learning model from being biased towards the majority class and improves its ability to learn patterns from the minority class.</p>"
   ]
  },
  {
   "cell_type": "code",
   "execution_count": 49,
   "id": "92477408-6212-4c6a-84d6-64f34a71cead",
   "metadata": {},
   "outputs": [],
   "source": [
    "No_class = train_df[train_df[\"is_fraud\"]==0]\n",
    "yes_class = train_df[train_df[\"is_fraud\"]==1]\n",
    "\n",
    "No_class = resample(No_class, replace=False, n_samples=len(yes_class))\n",
    "down_samples = pd.concat([yes_class, No_class], axis=0)\n",
    "\n",
    "\n",
    "X = down_samples.drop(\"is_fraud\", axis=1)\n",
    "y = down_samples[\"is_fraud\"]\n",
    "\n",
    "X_train, X_test, y_train, y_test = train_test_split(X, y, test_size=0.2, random_state=65)\n",
    "\n",
    "scaler = StandardScaler()\n",
    "X_train = scaler.fit_transform(X_train)\n",
    "X_test = scaler.transform(X_test)"
   ]
  },
  {
   "cell_type": "code",
   "execution_count": 52,
   "id": "7aa390e9-9463-4f8d-ad1a-ce3a0f68d325",
   "metadata": {},
   "outputs": [
    {
     "data": {
      "image/png": "[encoded data removed]",
      "text/plain": [
       "<Figure size 1200x600 with 2 Axes>"
      ]
     },
     "metadata": {},
     "output_type": "display_data"
    }
   ],
   "source": [
    "# Count the occurrences of each class in the original dataset\n",
    "original_class_counts = train_df[\"is_fraud\"].value_counts()\n",
    "\n",
    "# Count the occurrences of each class in the downsampled dataset\n",
    "downsampled_class_counts = down_samples[\"is_fraud\"].value_counts()\n",
    "\n",
    "# Calculate the percentage of each class\n",
    "original_percentages = original_class_counts / len(train_df) * 100\n",
    "downsampled_percentages = downsampled_class_counts / len(down_samples) * 100\n",
    "\n",
    "# Plotting\n",
    "plt.figure(figsize=(12, 6))\n",
    "\n",
    "# Bar chart for original class distribution\n",
    "plt.subplot(1, 2, 1)\n",
    "bars_1 = plt.bar(original_class_counts.index, original_class_counts.values, color=['orange', 'green'])\n",
    "for bar, label in zip(bars_1, original_percentages):\n",
    "    plt.text(bar.get_x() + bar.get_width() / 2, bar.get_height() + 5, f'{label:.2f}%', ha='center', va='bottom')\n",
    "plt.title('Original Class Distribution')\n",
    "plt.xlabel('Class')\n",
    "plt.ylabel('Count')\n",
    "plt.xticks(original_class_counts.index, ['No Fraud', 'Fraud'])\n",
    "\n",
    "# Bar chart for downsampled class distribution\n",
    "plt.subplot(1, 2, 2)\n",
    "bars_2 = plt.bar(downsampled_class_counts.index, downsampled_class_counts.values, color=['orange', 'green'])\n",
    "for bar, label in zip(bars_2, downsampled_percentages):\n",
    "    plt.text(bar.get_x() + bar.get_width() / 2, bar.get_height() + 5, f'{label:.2f}%', ha='center', va='bottom')\n",
    "plt.title('Downsampled Class Distribution')\n",
    "plt.xlabel('Class')\n",
    "plt.ylabel('Count')\n",
    "plt.xticks(downsampled_class_counts.index, ['No Fraud', 'Fraud'])\n",
    "\n",
    "plt.tight_layout() # the plots will be automatically adjusted to ensure that there is no overlap between subplots and that all elements are clearly visible.\n",
    "plt.show()\n"
   ]
  },
  {
   "cell_type": "markdown",
   "id": "ab1e50c9-9718-4066-a9d6-b40c3913af37",
   "metadata": {},
   "source": [
    "# ** [1] Logistic Regression -> LR**"
   ]
  },
  {
   "cell_type": "code",
   "execution_count": 86,
   "id": "66188a6e-1e01-4f15-8026-ae21b236768e",
   "metadata": {},
   "outputs": [
    {
     "name": "stdout",
     "output_type": "stream",
     "text": [
      "              precision    recall  f1-score   support\n",
      "\n",
      "           0       0.79      0.93      0.86      1486\n",
      "           1       0.92      0.76      0.83      1517\n",
      "\n",
      "    accuracy                           0.85      3003\n",
      "   macro avg       0.85      0.85      0.84      3003\n",
      "weighted avg       0.86      0.85      0.84      3003\n",
      "\n",
      "Logistic Regression accuracy is: 84.52%\n"
     ]
    }
   ],
   "source": [
    "LR_model = LogisticRegression()\n",
    "LR_model.fit(X_train, y_train)\n",
    "predict_LR = LR_model.predict(X_test)\n",
    "print(classification_report(y_test, predict_LR))\n",
    "LR_accuracy = accuracy_score(predict_LR,y_test)\n",
    "print('Logistic Regression accuracy is: {:.2f}%'.format(LR_accuracy*100))"
   ]
  },
  {
   "cell_type": "markdown",
   "id": "f45f06a7-ee74-4d68-8816-48676d790380",
   "metadata": {},
   "source": [
    "## ** [2] Support Vector Machine Model (SVC)**"
   ]
  },
  {
   "cell_type": "code",
   "execution_count": 89,
   "id": "3ee8008b-e6a3-490e-89b3-b9bd17480ea4",
   "metadata": {},
   "outputs": [
    {
     "name": "stdout",
     "output_type": "stream",
     "text": [
      "              precision    recall  f1-score   support\n",
      "\n",
      "           0       0.78      0.94      0.86      1486\n",
      "           1       0.93      0.75      0.83      1517\n",
      "\n",
      "    accuracy                           0.84      3003\n",
      "   macro avg       0.86      0.84      0.84      3003\n",
      "weighted avg       0.86      0.84      0.84      3003\n",
      "\n",
      "SVC model accuracy is: 84.28%\n"
     ]
    }
   ],
   "source": [
    "svm_model = LinearSVC()\n",
    "svm_model.fit(X_train, y_train)\n",
    "predict = svm_model.predict(X_test)\n",
    "\n",
    "print(classification_report(y_test, predict))\n",
    "svm_accuracy = accuracy_score(predict,y_test)\n",
    "print('SVC model accuracy is: {:.2f}%'.format(svm_accuracy*100))"
   ]
  },
  {
   "cell_type": "markdown",
   "id": "7330b329-0fc3-4f73-abf7-e07648731c03",
   "metadata": {},
   "source": [
    "# **[3]GaussianNB**"
   ]
  },
  {
   "cell_type": "code",
   "execution_count": 92,
   "id": "eb0881b8-2473-4da4-85df-6f48179b36f8",
   "metadata": {},
   "outputs": [
    {
     "name": "stdout",
     "output_type": "stream",
     "text": [
      "              precision    recall  f1-score   support\n",
      "\n",
      "           0       0.78      0.93      0.85      1486\n",
      "           1       0.91      0.74      0.82      1517\n",
      "\n",
      "    accuracy                           0.83      3003\n",
      "   macro avg       0.84      0.83      0.83      3003\n",
      "weighted avg       0.85      0.83      0.83      3003\n",
      "\n",
      "Naive Bayes model accuracy is: 83.18%\n"
     ]
    }
   ],
   "source": [
    "# Create and train the Gaussian Naive Bayes model\n",
    "NB_model = GaussianNB()\n",
    "NB_model.fit(X_train, y_train)\n",
    "\n",
    "# Make predictions on the test set\n",
    "y_pred_naive = NB_model.predict(X_test)\n",
    "\n",
    "# Evaluate the model\n",
    "print(classification_report(y_test, y_pred_naive))\n",
    "GaussianNB_accuracy = accuracy_score(y_pred_naive, y_test)\n",
    "print('Naive Bayes model accuracy is: {:.2f}%'.format(GaussianNB_accuracy * 100))"
   ]
  },
  {
   "cell_type": "markdown",
   "id": "dd0a469e-a32b-4acc-b5c3-d47ce72f0027",
   "metadata": {},
   "source": [
    "## **[4] Decision Tree Model (ID3)**"
   ]
  },
  {
   "cell_type": "code",
   "execution_count": 95,
   "id": "430d7a0d-3589-486a-bde1-f159c9241c5e",
   "metadata": {},
   "outputs": [
    {
     "name": "stdout",
     "output_type": "stream",
     "text": [
      "              precision    recall  f1-score   support\n",
      "\n",
      "           0       0.78      0.97      0.87      1486\n",
      "           1       0.97      0.74      0.84      1517\n",
      "\n",
      "    accuracy                           0.85      3003\n",
      "   macro avg       0.88      0.86      0.85      3003\n",
      "weighted avg       0.88      0.85      0.85      3003\n",
      "\n",
      "ID3 model accuracy is: 85.41%\n"
     ]
    }
   ],
   "source": [
    "DT = DecisionTreeClassifier(max_depth=(1), random_state=0)\n",
    "DT.fit(X_train, y_train)\n",
    "predict_ID3 = DT.predict(X_test)\n",
    "print(classification_report(y_test, predict_ID3))\n",
    "ID3_accuracy = accuracy_score(predict_ID3,y_test)\n",
    "print('ID3 model accuracy is: {:.2f}%'.format(ID3_accuracy*100))"
   ]
  },
  {
   "cell_type": "markdown",
   "id": "2538c660-9619-4e60-8da4-fe67b3ad9563",
   "metadata": {},
   "source": [
    "# **[5] RandomForestClassifier**"
   ]
  },
  {
   "cell_type": "code",
   "execution_count": 98,
   "id": "45bceafd-7d6b-4107-803e-58b9b3288cc7",
   "metadata": {},
   "outputs": [
    {
     "name": "stdout",
     "output_type": "stream",
     "text": [
      "              precision    recall  f1-score   support\n",
      "\n",
      "           0       0.96      0.97      0.97      1486\n",
      "           1       0.97      0.96      0.97      1517\n",
      "\n",
      "    accuracy                           0.97      3003\n",
      "   macro avg       0.97      0.97      0.97      3003\n",
      "weighted avg       0.97      0.97      0.97      3003\n",
      "\n",
      "Random Forest model accuracy is: 96.64%\n"
     ]
    }
   ],
   "source": [
    "# Initialize and train the Random Forest classifier\n",
    "RF = RandomForestClassifier(n_estimators=100, random_state=0)\n",
    "RF.fit(X_train, y_train)\n",
    "\n",
    "predict_RF = RF.predict(X_test)\n",
    "\n",
    "# Evaluate the model\n",
    "print(classification_report(y_test, predict_RF))\n",
    "RF_accuracy = accuracy_score(predict_RF, y_test)\n",
    "print('Random Forest model accuracy is: {:.2f}%'.format(RF_accuracy * 100))"
   ]
  },
  {
   "cell_type": "markdown",
   "id": "2a6c233b-cf18-4711-914b-f11cac678967",
   "metadata": {},
   "source": [
    "# **[6] XGBClassifier**"
   ]
  },
  {
   "cell_type": "code",
   "execution_count": 101,
   "id": "aaded2bc-50f1-413d-a813-739bd6fced22",
   "metadata": {},
   "outputs": [
    {
     "name": "stdout",
     "output_type": "stream",
     "text": [
      "              precision    recall  f1-score   support\n",
      "\n",
      "           0       0.99      0.97      0.98      1486\n",
      "           1       0.97      0.99      0.98      1517\n",
      "\n",
      "    accuracy                           0.98      3003\n",
      "   macro avg       0.98      0.98      0.98      3003\n",
      "weighted avg       0.98      0.98      0.98      3003\n",
      "\n",
      "XGBoost model accuracy is: 97.90%\n"
     ]
    }
   ],
   "source": [
    "# Initialize and train the XGBoost classifier\n",
    "XGB = XGBClassifier(random_state=0)\n",
    "XGB.fit(X_train, y_train)\n",
    "\n",
    "# Make predictions on the test set\n",
    "predict_XGB = XGB.predict(X_test)\n",
    "\n",
    "# Evaluate the model\n",
    "print(classification_report(y_test, predict_XGB))\n",
    "XGB_accuracy = accuracy_score(predict_XGB, y_test)\n",
    "print('XGBoost model accuracy is: {:.2f}%'.format(XGB_accuracy * 100))"
   ]
  },
  {
   "cell_type": "code",
   "execution_count": 103,
   "id": "d2ac8951-f6fc-4501-bb1c-7bb44e8947fd",
   "metadata": {},
   "outputs": [
    {
     "data": {
      "text/html": [
       "<div>\n",
       "<style scoped>\n",
       "    .dataframe tbody tr th:only-of-type {\n",
       "        vertical-align: middle;\n",
       "    }\n",
       "\n",
       "    .dataframe tbody tr th {\n",
       "        vertical-align: top;\n",
       "    }\n",
       "\n",
       "    .dataframe thead th {\n",
       "        text-align: right;\n",
       "    }\n",
       "</style>\n",
       "<table border=\"1\" class=\"dataframe\">\n",
       "  <thead>\n",
       "    <tr style=\"text-align: right;\">\n",
       "      <th></th>\n",
       "      <th>Algorithm</th>\n",
       "      <th>Accuracy</th>\n",
       "    </tr>\n",
       "  </thead>\n",
       "  <tbody>\n",
       "    <tr>\n",
       "      <th>0</th>\n",
       "      <td>XGBClassifier</td>\n",
       "      <td>0.979021</td>\n",
       "    </tr>\n",
       "    <tr>\n",
       "      <th>1</th>\n",
       "      <td>RandomForest</td>\n",
       "      <td>0.966367</td>\n",
       "    </tr>\n",
       "    <tr>\n",
       "      <th>2</th>\n",
       "      <td>ID3</td>\n",
       "      <td>0.854146</td>\n",
       "    </tr>\n",
       "    <tr>\n",
       "      <th>3</th>\n",
       "      <td>Logistic Regression</td>\n",
       "      <td>0.845155</td>\n",
       "    </tr>\n",
       "    <tr>\n",
       "      <th>4</th>\n",
       "      <td>SVC</td>\n",
       "      <td>0.842824</td>\n",
       "    </tr>\n",
       "    <tr>\n",
       "      <th>5</th>\n",
       "      <td>GaussianNB</td>\n",
       "      <td>0.831835</td>\n",
       "    </tr>\n",
       "  </tbody>\n",
       "</table>\n",
       "</div>"
      ],
      "text/plain": [
       "             Algorithm  Accuracy\n",
       "0        XGBClassifier  0.979021\n",
       "1         RandomForest  0.966367\n",
       "2                  ID3  0.854146\n",
       "3  Logistic Regression  0.845155\n",
       "4                  SVC  0.842824\n",
       "5           GaussianNB  0.831835"
      ]
     },
     "execution_count": 103,
     "metadata": {},
     "output_type": "execute_result"
    }
   ],
   "source": [
    "Algorithms = ['XGBClassifier', 'RandomForest', 'ID3', 'Logistic Regression', 'SVC', 'GaussianNB']\n",
    "accuracy = [XGB_accuracy, RF_accuracy, ID3_accuracy, LR_accuracy, svm_accuracy, GaussianNB_accuracy]\n",
    "\n",
    "FinalResult=pd.DataFrame({'Algorithm':Algorithms, 'Accuracy':accuracy})\n",
    "\n",
    "FinalResult"
   ]
  },
  {
   "cell_type": "markdown",
   "id": "6b8f011e-f081-46ea-a160-51f298a0c104",
   "metadata": {},
   "source": [
    "## **Classification For all Algorithms**"
   ]
  },
  {
   "cell_type": "code",
   "execution_count": 114,
   "id": "12657baf-302f-4400-8330-daf651d9d663",
   "metadata": {},
   "outputs": [
    {
     "data": {
      "image/png": "[encoded data removed]",
      "text/plain": [
       "<Figure size 500x500 with 1 Axes>"
      ]
     },
     "metadata": {},
     "output_type": "display_data"
    }
   ],
   "source": [
    "plt.figure(figsize=(5, 5))\n",
    "plt.bar(FinalResult['Algorithm'], FinalResult['Accuracy'], color='orange')\n",
    "plt.xlabel('Algorithm')\n",
    "plt.ylabel('Accuracy')\n",
    "plt.title('Accuracy of Different Algorithms')\n",
    "plt.ylim(0, 1)  # Set the limit of y-axis from 0 to 1 (accuracy ranges from 0 to 1)\n",
    "plt.xticks(rotation=45)  # Rotate x-axis labels for better visibility\n",
    "plt.grid(axis='x')  # Add gridlines only along the x-axis\n",
    "plt.tight_layout()  # Adjust layout to prevent clipping of labels\n",
    "plt.show()"
   ]
  },
  {
   "cell_type": "markdown",
   "id": "6708f070-9635-4c93-9dd4-a2fd4f649675",
   "metadata": {},
   "source": [
    "<center><h1 style=\"font-size:36px;\"><b>Thank You</b></h1><center>"
   ]
  },
  {
   "cell_type": "code",
   "execution_count": null,
   "id": "457192d6-9655-4692-a073-37cdb43c1083",
   "metadata": {},
   "outputs": [],
   "source": []
  }
 ],
 "metadata": {
  "kernelspec": {
   "display_name": "Python 3 (ipykernel)",
   "language": "python",
   "name": "python3"
  },
  "language_info": {
   "codemirror_mode": {
    "name": "ipython",
    "version": 3
   },
   "file_extension": ".py",
   "mimetype": "text/x-python",
   "name": "python",
   "nbconvert_exporter": "python",
   "pygments_lexer": "ipython3",
   "version": "3.12.7"
  }
 },
 "nbformat": 4,
 "nbformat_minor": 5
}
